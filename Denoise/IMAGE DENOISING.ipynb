{
 "cells": [
  {
   "cell_type": "code",
   "execution_count": 2,
   "metadata": {},
   "outputs": [],
   "source": [
    "# Include Libraries\n",
    "import numpy as np\n",
    "import matplotlib.pyplot as plt\n",
    "from tensorflow.keras.layers import Conv2D, Input, Dense, Reshape, Conv2DTranspose,\\\n",
    "   Activation, BatchNormalization, ReLU, Concatenate\n",
    "from tensorflow.keras.models import Model\n",
    "from tensorflow.keras.callbacks import ModelCheckpoint\n",
    "from tensorflow.keras.datasets import cifar10"
   ]
  },
  {
   "cell_type": "code",
   "execution_count": 3,
   "metadata": {},
   "outputs": [],
   "source": [
    "# Test and Train dataset\n",
    "(train_data_clean, _), (test_data_clean, _) = cifar10.load_data()"
   ]
  },
  {
   "cell_type": "code",
   "execution_count": 4,
   "metadata": {},
   "outputs": [],
   "source": [
    "train_data_clean = train_data_clean.astype('float32') / 255.\n",
    "test_data_clean = test_data_clean.astype('float32') / 255."
   ]
  },
  {
   "cell_type": "code",
   "execution_count": 5,
   "metadata": {},
   "outputs": [
    {
     "data": {
      "image/png": "[encoded data removed]",
      "text/plain": [
       "<Figure size 432x288 with 2 Axes>"
      ]
     },
     "metadata": {
      "needs_background": "light"
     },
     "output_type": "display_data"
    }
   ],
   "source": [
    "# Adding Noise to the dataset\n",
    "def add_noise_and_clip_data(data):\n",
    "   noise = np.random.normal(loc=0.0, scale=0.1, size=data.shape)\n",
    "   data = data + noise\n",
    "   data = np.clip(data, 0., 1.)\n",
    "   return data\n",
    "\n",
    "train_data_noisy = add_noise_and_clip_data(train_data_clean)\n",
    "test_data_noisy = add_noise_and_clip_data(test_data_clean)\n",
    "\n",
    "index = 5\n",
    "plt.subplot(1,2,1)\n",
    "plt.imshow(train_data_clean[index])\n",
    "plt.title('Original image')\n",
    "plt.subplot(1,2,2)\n",
    "plt.imshow(train_data_noisy[index])\n",
    "plt.title('Image with noise')\n",
    "plt.show()"
   ]
  },
  {
   "cell_type": "code",
   "execution_count": 6,
   "metadata": {},
   "outputs": [],
   "source": [
    "# Model structure\n",
    "def conv_block(x, filters, kernel_size, strides=2):\n",
    "   x = Conv2D(filters=filters,\n",
    "              kernel_size=kernel_size,\n",
    "              strides=strides,\n",
    "              padding='same')(x)\n",
    "   x = BatchNormalization()(x)\n",
    "   x = ReLU()(x)\n",
    "   return x\n",
    "\n",
    "def deconv_block(x, filters, kernel_size):\n",
    "   x = Conv2DTranspose(filters=filters,\n",
    "                       kernel_size=kernel_size,\n",
    "                       strides=2,\n",
    "                       padding='same')(x)\n",
    "   x = BatchNormalization()(x)\n",
    "   x = ReLU()(x)\n",
    "   return x"
   ]
  },
  {
   "cell_type": "code",
   "execution_count": 7,
   "metadata": {},
   "outputs": [],
   "source": [
    "def denoising_autoencoder():\n",
    "   dae_inputs = Input(shape=(32, 32, 3), name='dae_input')\n",
    "   conv_block1 = conv_block(dae_inputs, 32, 3)\n",
    "   conv_block2 = conv_block(conv_block1, 64, 3)\n",
    "   conv_block3 = conv_block(conv_block2, 128, 3)\n",
    "   conv_block4 = conv_block(conv_block3, 256, 3)\n",
    "   conv_block5 = conv_block(conv_block4, 256, 3, 1)\n",
    "\n",
    "   deconv_block1 = deconv_block(conv_block5, 256, 3)\n",
    "   merge1 = Concatenate()([deconv_block1, conv_block3])\n",
    "   deconv_block2 = deconv_block(merge1, 128, 3)\n",
    "   merge2 = Concatenate()([deconv_block2, conv_block2])\n",
    "   deconv_block3 = deconv_block(merge2, 64, 3)\n",
    "   merge3 = Concatenate()([deconv_block3, conv_block1])\n",
    "   deconv_block4 = deconv_block(merge3, 32, 3)\n",
    "\n",
    "   final_deconv = Conv2DTranspose(filters=3,\n",
    "                       kernel_size=3,\n",
    "                       padding='same')(deconv_block4)\n",
    "\n",
    "   dae_outputs = Activation('sigmoid', name='dae_output')(final_deconv)\n",
    "  \n",
    "   return Model(dae_inputs, dae_outputs, name='dae')"
   ]
  },
  {
   "cell_type": "code",
   "execution_count": 8,
   "metadata": {},
   "outputs": [
    {
     "name": "stdout",
     "output_type": "stream",
     "text": [
      "Epoch 1/40\n",
      "391/391 [==============================] - ETA: 0s - loss: 0.0045\n",
      "Epoch 00001: val_loss improved from inf to 0.00481, saving model to best_model.h5\n",
      "391/391 [==============================] - 41s 106ms/step - loss: 0.0045 - val_loss: 0.0048\n",
      "Epoch 2/40\n",
      "391/391 [==============================] - ETA: 0s - loss: 0.0024\n",
      "Epoch 00002: val_loss improved from 0.00481 to 0.00220, saving model to best_model.h5\n",
      "391/391 [==============================] - 38s 98ms/step - loss: 0.0024 - val_loss: 0.0022\n",
      "Epoch 3/40\n",
      "391/391 [==============================] - ETA: 0s - loss: 0.0022\n",
      "Epoch 00003: val_loss improved from 0.00220 to 0.00210, saving model to best_model.h5\n",
      "391/391 [==============================] - 37s 96ms/step - loss: 0.0022 - val_loss: 0.0021\n",
      "Epoch 4/40\n",
      "391/391 [==============================] - ETA: 0s - loss: 0.0021\n",
      "Epoch 00004: val_loss improved from 0.00210 to 0.00195, saving model to best_model.h5\n",
      "391/391 [==============================] - 37s 95ms/step - loss: 0.0021 - val_loss: 0.0019\n",
      "Epoch 5/40\n",
      "391/391 [==============================] - ETA: 0s - loss: 0.0021\n",
      "Epoch 00005: val_loss improved from 0.00195 to 0.00186, saving model to best_model.h5\n",
      "391/391 [==============================] - 37s 95ms/step - loss: 0.0021 - val_loss: 0.0019\n",
      "Epoch 6/40\n",
      "391/391 [==============================] - ETA: 0s - loss: 0.0020\n",
      "Epoch 00006: val_loss improved from 0.00186 to 0.00182, saving model to best_model.h5\n",
      "391/391 [==============================] - 37s 94ms/step - loss: 0.0020 - val_loss: 0.0018\n",
      "Epoch 7/40\n",
      "391/391 [==============================] - ETA: 0s - loss: 0.0019\n",
      "Epoch 00007: val_loss improved from 0.00182 to 0.00179, saving model to best_model.h5\n",
      "391/391 [==============================] - 42s 106ms/step - loss: 0.0019 - val_loss: 0.0018\n",
      "Epoch 8/40\n",
      "390/391 [============================>.] - ETA: 0s - loss: 0.0019\n",
      "Epoch 00008: val_loss did not improve from 0.00179\n",
      "391/391 [==============================] - 37s 94ms/step - loss: 0.0019 - val_loss: 0.0021\n",
      "Epoch 9/40\n",
      "390/391 [============================>.] - ETA: 0s - loss: 0.0019- ETA: 2s - loss: 0. - ETA\n",
      "Epoch 00009: val_loss improved from 0.00179 to 0.00174, saving model to best_model.h5\n",
      "391/391 [==============================] - 38s 97ms/step - loss: 0.0019 - val_loss: 0.0017\n",
      "Epoch 10/40\n",
      "391/391 [==============================] - ETA: 0s - loss: 0.0018\n",
      "Epoch 00010: val_loss did not improve from 0.00174\n",
      "391/391 [==============================] - 38s 96ms/step - loss: 0.0018 - val_loss: 0.0018\n",
      "Epoch 11/40\n",
      "391/391 [==============================] - ETA: 0s - loss: 0.0018\n",
      "Epoch 00011: val_loss improved from 0.00174 to 0.00167, saving model to best_model.h5\n",
      "391/391 [==============================] - 38s 97ms/step - loss: 0.0018 - val_loss: 0.0017\n",
      "Epoch 12/40\n",
      "391/391 [==============================] - ETA: 0s - loss: 0.0018\n",
      "Epoch 00012: val_loss did not improve from 0.00167\n",
      "391/391 [==============================] - 37s 94ms/step - loss: 0.0018 - val_loss: 0.0021\n",
      "Epoch 13/40\n",
      "391/391 [==============================] - ETA: 0s - loss: 0.0018\n",
      "Epoch 00013: val_loss did not improve from 0.00167\n",
      "391/391 [==============================] - 37s 94ms/step - loss: 0.0018 - val_loss: 0.0017\n",
      "Epoch 14/40\n",
      "391/391 [==============================] - ETA: 0s - loss: 0.0018\n",
      "Epoch 00014: val_loss improved from 0.00167 to 0.00162, saving model to best_model.h5\n",
      "391/391 [==============================] - 39s 99ms/step - loss: 0.0018 - val_loss: 0.0016\n",
      "Epoch 15/40\n",
      "391/391 [==============================] - ETA: 0s - loss: 0.0018\n",
      "Epoch 00015: val_loss did not improve from 0.00162\n",
      "391/391 [==============================] - 39s 100ms/step - loss: 0.0018 - val_loss: 0.0016\n",
      "Epoch 16/40\n",
      "391/391 [==============================] - ETA: 0s - loss: 0.0017\n",
      "Epoch 00016: val_loss did not improve from 0.00162\n",
      "391/391 [==============================] - 37s 95ms/step - loss: 0.0017 - val_loss: 0.0016\n",
      "Epoch 17/40\n",
      "391/391 [==============================] - ETA: 0s - loss: 0.0017\n",
      "Epoch 00017: val_loss did not improve from 0.00162\n",
      "391/391 [==============================] - 38s 97ms/step - loss: 0.0017 - val_loss: 0.0016\n",
      "Epoch 18/40\n",
      "391/391 [==============================] - ETA: 0s - loss: 0.0017\n",
      "Epoch 00018: val_loss did not improve from 0.00162\n",
      "391/391 [==============================] - 38s 98ms/step - loss: 0.0017 - val_loss: 0.0016\n",
      "Epoch 19/40\n",
      "391/391 [==============================] - ETA: 0s - loss: 0.0017\n",
      "Epoch 00019: val_loss did not improve from 0.00162\n",
      "391/391 [==============================] - 37s 96ms/step - loss: 0.0017 - val_loss: 0.0016\n",
      "Epoch 20/40\n",
      "391/391 [==============================] - ETA: 0s - loss: 0.0017\n",
      "Epoch 00020: val_loss did not improve from 0.00162\n",
      "391/391 [==============================] - 37s 95ms/step - loss: 0.0017 - val_loss: 0.0018\n",
      "Epoch 21/40\n",
      "391/391 [==============================] - ETA: 0s - loss: 0.0016\n",
      "Epoch 00021: val_loss improved from 0.00162 to 0.00162, saving model to best_model.h5\n",
      "391/391 [==============================] - 38s 96ms/step - loss: 0.0016 - val_loss: 0.0016\n",
      "Epoch 22/40\n",
      "391/391 [==============================] - ETA: 0s - loss: 0.001 - ETA: 0s - loss: 0.0016\n",
      "Epoch 00022: val_loss did not improve from 0.00162\n",
      "391/391 [==============================] - 38s 98ms/step - loss: 0.0016 - val_loss: 0.0017\n",
      "Epoch 23/40\n",
      "391/391 [==============================] - ETA: 0s - loss: 0.0016\n",
      "Epoch 00023: val_loss improved from 0.00162 to 0.00159, saving model to best_model.h5\n",
      "391/391 [==============================] - 38s 98ms/step - loss: 0.0016 - val_loss: 0.0016\n",
      "Epoch 24/40\n",
      "391/391 [==============================] - ETA: 0s - loss: 0.0016\n",
      "Epoch 00024: val_loss improved from 0.00159 to 0.00156, saving model to best_model.h5\n",
      "391/391 [==============================] - 38s 97ms/step - loss: 0.0016 - val_loss: 0.0016\n",
      "Epoch 25/40\n",
      "391/391 [==============================] - ETA: 0s - loss: 0.0016\n",
      "Epoch 00025: val_loss improved from 0.00156 to 0.00154, saving model to best_model.h5\n",
      "391/391 [==============================] - 38s 98ms/step - loss: 0.0016 - val_loss: 0.0015\n",
      "Epoch 26/40\n",
      "390/391 [============================>.] - ETA: 0s - loss: 0.0016\n",
      "Epoch 00026: val_loss did not improve from 0.00154\n",
      "391/391 [==============================] - 38s 98ms/step - loss: 0.0016 - val_loss: 0.0016\n",
      "Epoch 27/40\n",
      "390/391 [============================>.] - ETA: 0s - loss: 0.0016\n",
      "Epoch 00027: val_loss did not improve from 0.00154\n",
      "391/391 [==============================] - 38s 97ms/step - loss: 0.0016 - val_loss: 0.0016\n",
      "Epoch 28/40\n",
      "391/391 [==============================] - ETA: 0s - loss: 0.0016\n",
      "Epoch 00028: val_loss did not improve from 0.00154\n",
      "391/391 [==============================] - 38s 98ms/step - loss: 0.0016 - val_loss: 0.0015\n",
      "Epoch 29/40\n",
      "391/391 [==============================] - ETA: 0s - loss: 0.0016\n",
      "Epoch 00029: val_loss did not improve from 0.00154\n",
      "391/391 [==============================] - 39s 100ms/step - loss: 0.0016 - val_loss: 0.0015\n",
      "Epoch 30/40\n",
      "391/391 [==============================] - ETA: 0s - loss: 0.0016\n",
      "Epoch 00030: val_loss did not improve from 0.00154\n",
      "391/391 [==============================] - 41s 105ms/step - loss: 0.0016 - val_loss: 0.0016\n",
      "Epoch 31/40\n",
      "391/391 [==============================] - ETA: 0s - loss: 0.0015- ETA: 0s - loss: 0.0\n",
      "Epoch 00031: val_loss improved from 0.00154 to 0.00153, saving model to best_model.h5\n",
      "391/391 [==============================] - 38s 97ms/step - loss: 0.0015 - val_loss: 0.0015\n",
      "Epoch 32/40\n",
      "391/391 [==============================] - ETA: 0s - loss: 0.0015\n",
      "Epoch 00032: val_loss did not improve from 0.00153\n",
      "391/391 [==============================] - 38s 97ms/step - loss: 0.0015 - val_loss: 0.0016\n",
      "Epoch 33/40\n",
      "391/391 [==============================] - ETA: 0s - loss: 0.0015\n",
      "Epoch 00033: val_loss did not improve from 0.00153\n",
      "391/391 [==============================] - 39s 100ms/step - loss: 0.0015 - val_loss: 0.0016\n",
      "Epoch 34/40\n",
      "391/391 [==============================] - ETA: 0s - loss: 0.0015\n",
      "Epoch 00034: val_loss did not improve from 0.00153\n",
      "391/391 [==============================] - 38s 97ms/step - loss: 0.0015 - val_loss: 0.0015\n",
      "Epoch 35/40\n",
      "391/391 [==============================] - ETA: 0s - loss: 0.0015\n",
      "Epoch 00035: val_loss improved from 0.00153 to 0.00153, saving model to best_model.h5\n",
      "391/391 [==============================] - 39s 101ms/step - loss: 0.0015 - val_loss: 0.0015\n"
     ]
    },
    {
     "name": "stdout",
     "output_type": "stream",
     "text": [
      "Epoch 36/40\n",
      "391/391 [==============================] - ETA: 0s - loss: 0.0015\n",
      "Epoch 00036: val_loss did not improve from 0.00153\n",
      "391/391 [==============================] - 41s 106ms/step - loss: 0.0015 - val_loss: 0.0017\n",
      "Epoch 37/40\n",
      "391/391 [==============================] - ETA: 0s - loss: 0.0015\n",
      "Epoch 00037: val_loss did not improve from 0.00153\n",
      "391/391 [==============================] - 42s 107ms/step - loss: 0.0015 - val_loss: 0.0015\n",
      "Epoch 38/40\n",
      "391/391 [==============================] - ETA: 0s - loss: 0.0015\n",
      "Epoch 00038: val_loss did not improve from 0.00153\n",
      "391/391 [==============================] - 41s 105ms/step - loss: 0.0015 - val_loss: 0.0015\n",
      "Epoch 39/40\n",
      "391/391 [==============================] - ETA: 0s - loss: 0.0015\n",
      "Epoch 00039: val_loss did not improve from 0.00153\n",
      "391/391 [==============================] - 39s 100ms/step - loss: 0.0015 - val_loss: 0.0015\n",
      "Epoch 40/40\n",
      "391/391 [==============================] - ETA: 0s - loss: 0.0015\n",
      "Epoch 00040: val_loss did not improve from 0.00153\n",
      "391/391 [==============================] - 39s 101ms/step - loss: 0.0015 - val_loss: 0.0015\n"
     ]
    },
    {
     "data": {
      "text/plain": [
       "<tensorflow.python.keras.callbacks.History at 0x144b937a688>"
      ]
     },
     "execution_count": 8,
     "metadata": {},
     "output_type": "execute_result"
    }
   ],
   "source": [
    "dae = denoising_autoencoder()\n",
    "dae.compile(loss='mse', optimizer='adam')\n",
    "\n",
    "checkpoint = ModelCheckpoint('best_model.h5', verbose=1, save_best_only=True, save_weights_only=True)\n",
    "\n",
    "dae.fit(train_data_noisy,\n",
    "       train_data_clean,\n",
    "       validation_data=(test_data_noisy, test_data_clean),\n",
    "       epochs=40,\n",
    "       batch_size=128,\n",
    "       callbacks=[checkpoint])"
   ]
  },
  {
   "cell_type": "code",
   "execution_count": 9,
   "metadata": {},
   "outputs": [
    {
     "data": {
      "image/png": "[encoded data removed]",
      "text/plain": [
       "<Figure size 432x288 with 3 Axes>"
      ]
     },
     "metadata": {
      "needs_background": "light"
     },
     "output_type": "display_data"
    }
   ],
   "source": [
    "dae.load_weights('best_model.h5')\n",
    "test_data_denoised = dae.predict(test_data_noisy)\n",
    "idx = 4\n",
    "plt.subplot(1,3,1)\n",
    "plt.imshow(test_data_clean[idx])\n",
    "plt.title('original')\n",
    "plt.subplot(1,3,2)\n",
    "plt.imshow(test_data_noisy[idx])\n",
    "plt.title('noisy')\n",
    "plt.subplot(1,3,3)\n",
    "plt.imshow(test_data_denoised[idx])\n",
    "plt.title('denoised')\n",
    "plt.show()"
   ]
  },
  {
   "cell_type": "code",
   "execution_count": null,
   "metadata": {},
   "outputs": [],
   "source": []
  },
  {
   "cell_type": "code",
   "execution_count": null,
   "metadata": {},
   "outputs": [],
   "source": []
  }
 ],
 "metadata": {
  "kernelspec": {
   "display_name": "Python 3",
   "language": "python",
   "name": "python3"
  },
  "language_info": {
   "codemirror_mode": {
    "name": "ipython",
    "version": 3
   },
   "file_extension": ".py",
   "mimetype": "text/x-python",
   "name": "python",
   "nbconvert_exporter": "python",
   "pygments_lexer": "ipython3",
   "version": "3.7.4"
  }
 },
 "nbformat": 4,
 "nbformat_minor": 2
}
